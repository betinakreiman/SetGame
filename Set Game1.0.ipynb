{
 "cells": [
  {
   "cell_type": "markdown",
   "metadata": {},
   "source": [
    "Color - Red, Green, Purple\n",
    "Quantity - 1, 2, 3\n",
    "Shape - Oval, Diamond, Squiggly\n",
    "Filling - Empty, Stripes, Full\n",
    "\n",
    "cardOk - checks if card is ok and matches boundaries \n",
    "isPotential - checks if three cards either work with a given quality to form a set or not\n",
    "isSet - checks if three cards make a set or not\n",
    "generateRandomCard - creates a card that matches boundaries\n",
    "generateRandomColor - generates a random color\n",
    "generateRandomShape - generates a random shape\n",
    "generateRandomFilling - generates a random filling\n",
    "generateRandomQuantity - generates a random number from 1 to 3\n",
    "generateTriplet - generates three different cards\n",
    "isTwin - checks if two cards are the same \n",
    "generateTableTwelve - makes a table of twelve fcards that are not repeated\n",
    "repeatedCard - checks if a card is already in table\n",
    "lookForSetInTable - looks for a set in the table that it was given\n",
    "removeCards - removes three cards from a set\n",
    "order - orders three numbers that are not equal to eachother in chronological order"
   ]
  },
  {
   "cell_type": "markdown",
   "metadata": {},
   "source": [
    "def cardOk(card):\n",
    "    if card[0] == 'r' or card[0] == 'g' or card[0] == 'p':\n",
    "        if card[1] == 1 or card[1] == 2 or card[1] == 3:\n",
    "            if card[2] == 'o' or card[2] == 's' or card[2] == 'd':\n",
    "                if card[3] == 'e' or card[3] == 's' or card[3] == 'f':\n",
    "                    if len(card) == 4:\n",
    "                        return True\n",
    "    return False\n",
    "myCard = ['p', 1, 's', 'e']\n",
    "franklinsCard = ['p', 2, 's', 's']\n",
    "tobysCard = ['p', 3, 's', 'f']\n",
    "print(myCard)\n",
    "print(cardOk(myCard))"
   ]
  },
  {
   "cell_type": "markdown",
   "metadata": {},
   "source": [
    "def isColor(cOne, cTwo, cThree):\n",
    "    if cOne[0] == cTwo[0] and cOne[0] == cThree[0] and cTwo[0] == cThree[0]:\n",
    "        return True\n",
    "    elif cOne[0] != cTwo[0] and cOne[0]!= cThree[0] and cTwo[0] != cThree[0]:\n",
    "        return True\n",
    "    return False\n",
    "isColor(myCard, franklinsCard, tobysCard)"
   ]
  },
  {
   "cell_type": "markdown",
   "metadata": {},
   "source": [
    "def isQuantity(cOne, cTwo, cThree):\n",
    "    if cOne[1] == cTwo[1] and cOne[1] == cThree[1] and cTwo[1] == cThree[1]:\n",
    "        return True\n",
    "    elif cOne[1] != cTwo[1] and cOne[1]!= cThree[1] and cTwo[1] != cThree[1]:\n",
    "        return True\n",
    "    return False\n",
    "isColor(myCard, franklinsCard, tobysCard)"
   ]
  },
  {
   "cell_type": "code",
   "execution_count": 1,
   "metadata": {},
   "outputs": [
    {
     "ename": "NameError",
     "evalue": "name 'myCard' is not defined",
     "output_type": "error",
     "traceback": [
      "\u001b[0;31m---------------------------------------------------------------------------\u001b[0m",
      "\u001b[0;31mNameError\u001b[0m                                 Traceback (most recent call last)",
      "\u001b[0;32m<ipython-input-1-adc0aaca52d8>\u001b[0m in \u001b[0;36m<module>\u001b[0;34m\u001b[0m\n\u001b[1;32m     10\u001b[0m         \u001b[0;32mreturn\u001b[0m \u001b[0;32mTrue\u001b[0m\u001b[0;34m\u001b[0m\u001b[0;34m\u001b[0m\u001b[0m\n\u001b[1;32m     11\u001b[0m     \u001b[0;32mreturn\u001b[0m \u001b[0;32mFalse\u001b[0m\u001b[0;34m\u001b[0m\u001b[0;34m\u001b[0m\u001b[0m\n\u001b[0;32m---> 12\u001b[0;31m \u001b[0misPotential\u001b[0m\u001b[0;34m(\u001b[0m\u001b[0mmyCard\u001b[0m\u001b[0;34m,\u001b[0m \u001b[0mfranklinsCard\u001b[0m\u001b[0;34m,\u001b[0m \u001b[0mtobysCard\u001b[0m\u001b[0;34m,\u001b[0m \u001b[0;36m1\u001b[0m\u001b[0;34m)\u001b[0m\u001b[0;34m\u001b[0m\u001b[0;34m\u001b[0m\u001b[0m\n\u001b[0m",
      "\u001b[0;31mNameError\u001b[0m: name 'myCard' is not defined"
     ]
    }
   ],
   "source": [
    "def isPotential(cOne, cTwo, cThree, property):\n",
    "    # input = card1, card2, card3, and a property (quantity, color, shape, filling)\n",
    "    # output = true or false\n",
    "    # function -> sees if cards are either all the same or all different in one property\n",
    "    # properties represented with number - (color = 0, quantity = 1, shape = 2, filling 3)\n",
    "    \n",
    "    if cOne[property] == cTwo[property] and cOne[property] == cThree[property] and cTwo[property] == cThree[property]:\n",
    "        return True\n",
    "    elif cOne[property] != cTwo[property] and cOne[property]!= cThree[property] and cTwo[property] != cThree[property]:\n",
    "        return True\n",
    "    return False\n",
    "isPotential(myCard, franklinsCard, tobysCard, 1)"
   ]
  },
  {
   "cell_type": "code",
   "execution_count": null,
   "metadata": {},
   "outputs": [],
   "source": [
    "def isSet(cOne, cTwo, cThree):\n",
    "    # input = card1, card2, and card3\n",
    "    # output = true or false (is set or not)\n",
    "    # function -> checks if all the properties are either all the same or all different to find if set or not\n",
    "    \n",
    "    if isPotential(cOne, cTwo, cThree, 0) and isPotential(cOne, cTwo, cThree, 1) and isPotential(cOne, cTwo, cThree, 2) and isPotential(cOne, cTwo, cThree, 3):\n",
    "        return True\n",
    "    return False\n",
    "isSet(myCard, franklinsCard, tobysCard)"
   ]
  },
  {
   "cell_type": "markdown",
   "metadata": {},
   "source": [
    "import random\n",
    "def generateRandomColor():\n",
    "    randomValue = random.randint(1, 3)\n",
    "    if randomValue == 1:\n",
    "        return 'r'\n",
    "    if randomValue == 2:\n",
    "        return 'g'\n",
    "    if randomValue == 3:\n",
    "        return 'p'\n",
    "    return 'error'\n",
    "generateRandomColor()    "
   ]
  },
  {
   "cell_type": "markdown",
   "metadata": {},
   "source": [
    "def generateRandomShape():\n",
    "    randomValue = random.randint(1, 3)\n",
    "    if randomValue == 1:\n",
    "        return 'o'\n",
    "    if randomValue == 2:\n",
    "        return 's'\n",
    "    if randomValue == 3:\n",
    "        return 'd'\n",
    "    return 'error'\n",
    "generateRandomShape()"
   ]
  },
  {
   "cell_type": "markdown",
   "metadata": {},
   "source": [
    "def generateRandomFilling():\n",
    "    randomValue = random.randint(1, 3)\n",
    "    if randomValue == 1:\n",
    "        return 'e'\n",
    "    if randomValue == 2:\n",
    "        return 's'\n",
    "    if randomValue == 3:\n",
    "        return 'f'\n",
    "    return 'error'\n",
    "generateRandomFilling()"
   ]
  },
  {
   "cell_type": "markdown",
   "metadata": {},
   "source": [
    "def generateRandomQuantity():\n",
    "    randomValue = random.randint(1, 3)\n",
    "    if randomValue == 1 or randomValue == 2 or randomValue == 3:\n",
    "        return randomValue\n",
    "    return 'error'\n",
    "generateRandomQuantity()"
   ]
  },
  {
   "cell_type": "markdown",
   "metadata": {},
   "source": [
    "# Generates a random card that works with the boundaries we gave it (color, quantity, shape, filling)\n",
    "\n",
    "def generateRandomCard():\n",
    "    cardValues = [generateRandomColor(), generateRandomQuantity(), generateRandomShape(), generateRandomFilling()]\n",
    "    if cardOk(cardValues):\n",
    "        return cardValues\n",
    "    return 'error'\n",
    "generateRandomCard()"
   ]
  },
  {
   "cell_type": "markdown",
   "metadata": {},
   "source": [
    "def generateTriplet():\n",
    "    while True:   \n",
    "        cardOne = generateRandomCard()\n",
    "        cardTwo = generateRandomCard()\n",
    "        cardThree = generateRandomCard()\n",
    "        if isTwin(cardOne, cardTwo) or isTwin(cardOne, cardThree) or isTwin(cardTwo, cardThree):\n",
    "            pass\n",
    "        else:\n",
    "            return cardOne, cardTwo, cardThree\n",
    "\n",
    "generateTriplet()"
   ]
  },
  {
   "cell_type": "code",
   "execution_count": null,
   "metadata": {},
   "outputs": [],
   "source": [
    "def isTwin(cOne, cTwo):\n",
    "    # input = card1 and card2\n",
    "    # ouput = true or false\n",
    "    # function -> checks if the 2 cards are the same in every property or not\n",
    "    \n",
    "    if cOne[0] == cTwo[0] and cOne[1] == cTwo[1] and cOne[2] == cTwo[2] and cOne[3] == cTwo[3] :\n",
    "        return True\n",
    "    return False\n",
    "isTwin(myCard, franklinsCard)"
   ]
  },
  {
   "cell_type": "markdown",
   "metadata": {},
   "source": [
    "cardOne, cardTwo, cardThree = generateTriplet()\n",
    "print('Card one is', cardOne)\n",
    "print('Card two is', cardTwo)\n",
    "print('Card three is', cardThree)\n",
    "isSame(cardOne, cardTwo, cardThree, 1)"
   ]
  },
  {
   "cell_type": "markdown",
   "metadata": {},
   "source": [
    "def generateTableTwelve():\n",
    "    nOfCards = 0\n",
    "    table = []\n",
    "    while nOfCards < 12:\n",
    "        card = generateRandomCard()\n",
    "        if repeatedCard(table, card):\n",
    "            pass\n",
    "        else:\n",
    "            table.append(card)\n",
    "            nOfCards = nOfCards + 1\n",
    "    return table\n",
    "table = generateTableTwelve()"
   ]
  },
  {
   "cell_type": "markdown",
   "metadata": {},
   "source": [
    "table = [[1, 'f', 3], [2, 2, 3]]\n",
    "print(table[0])\n",
    "# table[0] = ['r', 1, 'o', 'e']\n",
    "table.append([4, 5, 6])\n",
    "print(table)\n",
    "print(len(table))"
   ]
  },
  {
   "cell_type": "code",
   "execution_count": null,
   "metadata": {},
   "outputs": [],
   "source": [
    "def repeatedCard(table, card):\n",
    "    # input = a table and a card\n",
    "    # output = true or false\n",
    "    # function -> checks if a card is already in the table or not\n",
    "    \n",
    "    for i in table:\n",
    "        if isTwin(i, card):\n",
    "            return True\n",
    "    return False"
   ]
  },
  {
   "cell_type": "code",
   "execution_count": null,
   "metadata": {},
   "outputs": [],
   "source": [
    "def removeCards(table, cOneIndex, cTwoIndex, cThreeIndex):\n",
    "    # input = table, card one index, card two index, and card three index\n",
    "    # output = table \n",
    "    # function -> removes a set from the table\n",
    "    # indices must be in order if not it will NOT work\n",
    "    # indices go from 0 to length of table minus one\n",
    "    if cOneIndex == cTwoIndex or cOneIndex == cThreeIndex or cThreeIndex == cTwoIndex:\n",
    "        print(\"You suck\")\n",
    "        # the code should never get here\n",
    "        return table\n",
    "    # if cOneIndex > cTwoIndex or cOneIndex > cThreeIndex or cTwoIndex > cThreeIndex:\n",
    "        # return 'You Suck'\n",
    "    smallestIndex, middleIndex, largestIndex = order(cOneIndex, cTwoIndex, cThreeIndex)\n",
    "    print(len(table))\n",
    "    print(smallestIndex, middleIndex, largestIndex)\n",
    "    del table[smallestIndex]\n",
    "    del table[middleIndex-1]\n",
    "    del table[largestIndex-2]\n",
    "    return table\n",
    "table = generateTableTwelve()\n",
    "print(table)\n",
    "removeCards(table, 11, 0, 6)"
   ]
  },
  {
   "cell_type": "code",
   "execution_count": null,
   "metadata": {},
   "outputs": [],
   "source": [
    "list = [1, 2, 3, 4, 'a']\n",
    "print(list[2])\n",
    "# list.remove(2)\n",
    "del list[2]\n",
    "print(list)"
   ]
  },
  {
   "cell_type": "code",
   "execution_count": null,
   "metadata": {},
   "outputs": [],
   "source": [
    "def order(cOneI, cTwoI, cThreeI):\n",
    "    if cOneI == cTwoI or cOneI == cThreeI or cTwoI == cThreeI:\n",
    "        return 'error'\n",
    "    if cOneI < cTwoI < cThreeI:\n",
    "        return cOneI, cTwoI, cThreeI\n",
    "    if cOneI < cTwoI:\n",
    "        if cOneI < cThreeI:\n",
    "            smallestIndex = cOneI\n",
    "            middleIndex = cThreeI\n",
    "            largestIndex = cTwoI\n",
    "        else:\n",
    "            middleIndex = cOneI\n",
    "            smallestIndex = cThreeI\n",
    "            largestIndex = cTwoI\n",
    "    else:\n",
    "        if cOneI > cThreeI:\n",
    "            largestIndex = cOneI\n",
    "            if cThreeI > cTwoI:\n",
    "                middleIndex = cThreeI\n",
    "                smallestIndex = cTwoI\n",
    "            else:\n",
    "                middleIndex = cTwoI\n",
    "                smallestIndex = cThreeI\n",
    "        else:\n",
    "            middleIndex = cOneI\n",
    "            if cTwoI > cThreeI:\n",
    "                largestIndex = cTwoI\n",
    "                smallestIndex = cThreeI\n",
    "            else:\n",
    "                largestIndex = cThreeI\n",
    "                smallestIndex = cTwoI\n",
    "    return smallestIndex, middleIndex, largestIndex\n",
    "order(10, 11, 7)"
   ]
  },
  {
   "cell_type": "code",
   "execution_count": null,
   "metadata": {},
   "outputs": [],
   "source": [
    "def createDeck():\n",
    "    deck = []\n",
    "    color = ['r', 'g', 'p']\n",
    "    quantity = [1, 2, 3]\n",
    "    shape = ['o', 's', 'd']\n",
    "    filling = ['e', 's', 'f']\n",
    "\n",
    "    for i in color:\n",
    "        for j in quantity:\n",
    "            for m in shape:\n",
    "                for n in filling:\n",
    "                    deck.append([i, j, m, n])\n",
    "    return deck\n",
    "deck = createDeck()\n",
    "for i in range(0, 10):\n",
    "    print(deck[i])"
   ]
  },
  {
   "cell_type": "markdown",
   "metadata": {},
   "source": [
    "def removeCardFromDeck():\n",
    "    "
   ]
  },
  {
   "cell_type": "code",
   "execution_count": null,
   "metadata": {},
   "outputs": [],
   "source": [
    "import random\n",
    "def generateRandomCardFromDeck(deck):\n",
    "    # the input to the function is a deck of cards\n",
    "    # the output to this function is the card that was removed and the new deck that no longer contains that card\n",
    "    numberOfCardsInDeck = len(deck)\n",
    "    removingCard = random.randint(0, numberOfCardsInDeck-1)\n",
    "    # print('Removing card index is', removingCard)\n",
    "    # print('The length of the deck is', len(deck))\n",
    "    card = deck[removingCard]\n",
    "    del deck[removingCard]\n",
    "    return card, deck\n",
    "deck = createDeck()\n",
    "card, deck = generateRandomCardFromDeck(deck)\n",
    "print(card, len(deck))"
   ]
  },
  {
   "cell_type": "code",
   "execution_count": null,
   "metadata": {},
   "outputs": [],
   "source": [
    "def generateTripletFromDeck(deck):\n",
    "    # the input is a deck of cards\n",
    "    # the output is three cards and the deck that no longer contains those three cards\n",
    "    cardOne, deck = generateRandomCardFromDeck(deck)\n",
    "    cardTwo, deck = generateRandomCardFromDeck(deck)\n",
    "    cardThree, deck = generateRandomCardFromDeck(deck)\n",
    "    return cardOne, cardTwo, cardThree, deck\n",
    "deck = createDeck()\n",
    "card1, card2, card3, deck = generateTripletFromDeck(deck)\n",
    "print(card1, card2, card3, len(deck))"
   ]
  },
  {
   "cell_type": "code",
   "execution_count": null,
   "metadata": {},
   "outputs": [],
   "source": [
    "def generateTableBeginning(deck):\n",
    "    # the input is a deck of cards\n",
    "    # the output is twelve cards and the updated deck of cards\n",
    "    nOfCards = 0\n",
    "    table = []\n",
    "    while nOfCards < 12:\n",
    "        card, deck = generateRandomCardFromDeck(deck)\n",
    "        #print(card)\n",
    "        if repeatedCard(table, card):\n",
    "            pass\n",
    "        else:\n",
    "            table.append(card)\n",
    "            nOfCards = nOfCards + 1\n",
    "    return table, deck\n",
    "deck = createDeck()\n",
    "print ('deck[0]',deck[0])\n",
    "table, deck = generateTableBeginning(deck)\n",
    "print('The length of the deck is', len(deck), 'The length of the table is', len(table))"
   ]
  },
  {
   "cell_type": "code",
   "execution_count": null,
   "metadata": {},
   "outputs": [],
   "source": [
    "def hitMe(table, deck):\n",
    "    # input a table without sets and cards\n",
    "    # output either a table with more cards and deck has less cards or end of game will include error message\n",
    "    errMsg = 'none'\n",
    "    if len(deck) == 0:\n",
    "        errMsg = 'Good job you won'\n",
    "        return table, deck, errMsg\n",
    "    cOne, cTwo, cThree, deck = (generateTripletFromDeck(deck))\n",
    "    table.append(cOne)\n",
    "    table.append(cTwo)\n",
    "    table.append(cThree)\n",
    "    return table, deck, errMsg\n",
    "deck = createDeck()\n",
    "table, deck = generateTableBeginning(deck)\n",
    "print(len(table), len(deck))\n",
    "hitMe(table, deck)\n",
    "print(len(table), len(deck))\n"
   ]
  },
  {
   "cell_type": "markdown",
   "metadata": {},
   "source": [
    "from PIL import Image\n",
    "import os\n",
    "from os import path\n",
    "\n",
    "filepath = '/Users/betinakreiman/Downloads/p1se.jpg'\n",
    "img = Image.open(filepath)\n",
    "img.show()\n"
   ]
  },
  {
   "cell_type": "markdown",
   "metadata": {},
   "source": [
    "def showOneCard(card):\n",
    "    # input = the name of a card\n",
    "    # output = show the card\n",
    "    filepath = '/Users/betinakreiman/Downloads/'+ card + '.jpg'\n",
    "    print(filepath)\n",
    "    img = Image.open(filepath)\n",
    "    img.show()\n",
    "showOneCard('p1ss')       "
   ]
  },
  {
   "cell_type": "markdown",
   "metadata": {},
   "source": [
    "hello = 'hello'\n",
    "print(hello)\n",
    "hello = hello + 'h'\n",
    "print(hello)\n",
    "hello = hello + '5'\n",
    "print(hello)\n",
    "# h = 5\n",
    "# h.isdigit()\n",
    "h = '5'\n",
    "temp = 5\n",
    "# h = h + temp\n",
    "print(h)\n",
    "# isinstance(5, int)\n",
    "h = 'ffffff'\n",
    "print(str(h))"
   ]
  },
  {
   "cell_type": "markdown",
   "metadata": {},
   "source": [
    "import matplotlib.pyplot as plt\n",
    "from PIL import Image\n",
    "import os\n",
    "from os import path\n",
    "\n",
    "def showTable2(table):\n",
    "    # input = a table / array of cards\n",
    "    # output = a display of the cards\n",
    "    tableCount = len(table)\n",
    "    if tableCount == 0:\n",
    "        print('There are no cards on the table')\n",
    "        return\n",
    "    fig,ax = plt.subplots(3, int(tableCount / 3))\n",
    "    # fig,ax = plt.subplots(1, tableCount)\n",
    "    \n",
    "    \n",
    "    for i in range(tableCount):\n",
    "        \n",
    "        card = ''\n",
    "        for j in table[i]:\n",
    "            card = card + str(j)\n",
    "        # print(card)\n",
    "        filepath = '/Users/betinakreiman/Desktop/Life/PythonProjects/SetGame/'+ card + '.jpg'\n",
    "        img = Image.open(filepath)\n",
    "        ax[i].imshow(img)\n",
    "        ax[i].axis('off')\n",
    "        # print(table[i])\n",
    "    \n",
    "deck = createDeck()\n",
    "table, deck = generateTableBeginning(deck)\n",
    "showTable2(table)\n"
   ]
  },
  {
   "cell_type": "markdown",
   "metadata": {},
   "source": [
    "rowCount = 1\n",
    "row = 1\n",
    "columnCount = 1\n",
    "\n",
    "for i in range(12):\n",
    "    print('I equals', i, 'Row equals', row, 'Column equals', columnCount)\n",
    "    if rowCount % 3 == 0:\n",
    "        row = row + 1\n",
    "    if columnCount % 3 == 0:\n",
    "        columnCount = 0\n",
    "    \n",
    "    rowCount = rowCount + 1\n",
    "    columnCount = columnCount + 1"
   ]
  },
  {
   "cell_type": "markdown",
   "metadata": {},
   "source": [
    "m = 0\n",
    "for i in range(1,5):\n",
    "    for j in range(1,4):\n",
    "        print('M equals', m, 'Row equals', i, 'Column equals', j)\n",
    "        m = m + 1\n",
    "        "
   ]
  },
  {
   "cell_type": "code",
   "execution_count": null,
   "metadata": {},
   "outputs": [],
   "source": [
    "import matplotlib.pyplot as plt\n",
    "from PIL import Image\n",
    "import os\n",
    "from os import path\n",
    "\n",
    "def showTable(table):\n",
    "    # input = a table / array of cards\n",
    "    # output = a display of the cards\n",
    "    tableCount = len(table)\n",
    "    if tableCount == 0:\n",
    "        print('There are no cards on the table')\n",
    "        return\n",
    "    fig,ax = plt.subplots(int(tableCount / 3), 3)\n",
    "    \n",
    "    placeInTable = 0\n",
    "    for row in range(0, int(tableCount / 3)):\n",
    "        for column in range(0,3):\n",
    "            card = ''\n",
    "            for character in table[placeInTable]:\n",
    "                card = card + str(character)\n",
    "            filepath = '/Users/betinakreiman/Desktop/Life/PythonProjects/SetGame/'+ card + '.jpg'\n",
    "            img = Image.open(filepath)\n",
    "            ax[row, column].imshow(img)\n",
    "            ax[row, column].axis('off') \n",
    "            \n",
    "            placeInTable = placeInTable + 1\n",
    "            \n",
    "deck = createDeck()\n",
    "table, deck = generateTableBeginning(deck)\n",
    "showTable(table)"
   ]
  },
  {
   "cell_type": "markdown",
   "metadata": {},
   "source": [
    "def showSet2(cOne, cTwo, cThree):\n",
    "    # input = three cards\n",
    "    # output = if set then shows the three cards if not set then shows the cards with a message saying not set\n",
    "    errMsg = 'none'\n",
    "    cOneFile = ''\n",
    "    cTwoFile = ''\n",
    "    cThreeFile = ''\n",
    "    \n",
    "    for i in cOne:\n",
    "        cOneFile = cOneFile + str(i)\n",
    "        # print(cOneFile)\n",
    "    for i in cTwo: \n",
    "         cTwoFile = cTwoFile + str(i)\n",
    "    for i in cThree:\n",
    "        cThreeFile = cThreeFile + str(i)\n",
    "        \n",
    "    # print('cOneFile is ', cOneFile)\n",
    "    # print('cTwoFile is', cTwoFile)\n",
    "    # print('cThreeFile is', cThreeFile)\n",
    "    showCard1 = showOneCard(cOneFile)\n",
    "    showCard2 = showOneCard(cTwoFile)\n",
    "    showCard3 = showOneCard(cThreeFile)\n",
    "    if isSet(cOne, cTwo, cThree) == False:\n",
    "        errMsg = 'Not set'\n",
    "        return showCard1, showCard2, showCard3, errMsg\n",
    "    return showCard1, showCard2, showCard3, errMsg\n",
    "showSet2(myCard, franklinsCard, tobysCard)"
   ]
  },
  {
   "cell_type": "code",
   "execution_count": null,
   "metadata": {},
   "outputs": [],
   "source": [
    "def showSet(cOne, cTwo, cThree):\n",
    "    # input = three cards\n",
    "    # output = if set then shows the three cards if not set then shows the cards with a message saying not set\n",
    "    errMsg = 'none'\n",
    "    cOneFile = ''\n",
    "    cTwoFile = ''\n",
    "    cThreeFile = ''\n",
    "    \n",
    "    for i in cOne:\n",
    "        cOneFile = cOneFile + str(i)\n",
    "    for i in cTwo: \n",
    "         cTwoFile = cTwoFile + str(i)\n",
    "    for i in cThree:\n",
    "        cThreeFile = cThreeFile + str(i)\n",
    "    \n",
    "    fig,ax = plt.subplots(1, 3)\n",
    "    filepath = '/Users/betinakreiman/Desktop/Life/PythonProjects/SetGame/'+ cOneFile + '.jpg'\n",
    "    showCard1 = Image.open(filepath)\n",
    "    ax[0].imshow(showCard1)\n",
    "    \n",
    "    filepath = '/Users/betinakreiman/Desktop/Life/PythonProjects/SetGame/'+ cTwoFile + '.jpg'\n",
    "    showCard2 = Image.open(filepath)\n",
    "    ax[1].imshow(showCard2)\n",
    "    \n",
    "    filepath = '/Users/betinakreiman/Desktop/Life/PythonProjects/SetGame/'+ cThreeFile + '.jpg'\n",
    "    showCard3 = Image.open(filepath)\n",
    "    ax[2].imshow(showCard3)\n",
    "    ax[0].axis('off')\n",
    "    ax[1].axis('off')\n",
    "    ax[2].axis('off')\n",
    "        \n",
    "    if isSet(cOne, cTwo, cThree) == False:\n",
    "        errMsg = 'Not set'\n",
    "    return errMsg\n",
    "\n",
    "deck = createDeck()\n",
    "card1, deck = generateRandomCardFromDeck(deck)\n",
    "card2, deck = generateRandomCardFromDeck(deck)\n",
    "card3, deck = generateRandomCardFromDeck(deck)\n",
    "myCard = ['g', 1, 'o', 's']\n",
    "franklinsCard = ['p', 2, 's', 'e']\n",
    "tobysCard = ['r', 3, 'd', 'f']\n",
    "showSet(myCard, franklinsCard, tobysCard)"
   ]
  },
  {
   "cell_type": "code",
   "execution_count": null,
   "metadata": {},
   "outputs": [],
   "source": [
    "def cardsInTable(table, card1, card2, card3):\n",
    "    # input = table, card1, card2, card2\n",
    "    # output = yes or no\n",
    "    # card1, card2, and card3 must be integers and go from 1 to length of table\n",
    "    if card1 <= len(table) and card1 > 0 and card2 <= len(table) and card2 > 0 and card3 <= len(table) and card3 > 0:\n",
    "        pass\n",
    "    else:\n",
    "        return False\n",
    "    if card1 == card2 or card1 == card3 or card2 == card3:\n",
    "        return False\n",
    "    if card1 % 1 == 0 and card2 % 1 == 0 and card3 % 1 == 0:\n",
    "        return True\n",
    "    return False\n",
    "\n",
    "deck = createDeck()\n",
    "table, deck = generateTableBeginning(deck)\n",
    "\n",
    "cardsInTable(table, 1, 2, 3)"
   ]
  },
  {
   "cell_type": "code",
   "execution_count": null,
   "metadata": {},
   "outputs": [],
   "source": [
    "def isSetFromTable(table, card1, card2, card3):\n",
    "    # input = table, card1, card2, card2\n",
    "    # output = yes or no\n",
    "    if cardsInTable(table, card1, card2, card3) == False:\n",
    "        return False\n",
    "    if isSet(table[card1-1], table[card2-1], table[card3-1]):\n",
    "        return True\n",
    "    return False\n",
    "# deck = createDeck()\n",
    "# table, deck = generateTableBeginning(deck)\n",
    "showTable(table)\n",
    "isSetFromTable(table, 2, 10, 12)"
   ]
  },
  {
   "cell_type": "code",
   "execution_count": null,
   "metadata": {},
   "outputs": [],
   "source": [
    "def playersTurn(table, scoreP):\n",
    "    # input = table, scoreP\n",
    "    # output = table, scoreP\n",
    "    userSetOrNot = input(\"Do you see a set? (yes or no)\")\n",
    "    if userSetOrNot == \"no\":\n",
    "        return table, scoreP\n",
    "    card1, card2, card3 = input(\"Please enter the three cards of your set.\").split()\n",
    "    card1 = int(card1)\n",
    "    card2 = int(card2)\n",
    "    card3 = int(card3)\n",
    "    userCorrectOrNot = isSetFromTable(table, card1, card2, card3)\n",
    "    if userCorrectOrNot == False:\n",
    "        print(\"Sos un boru. You lost a point\")\n",
    "        scoreP = scoreP - 1\n",
    "        return table, scoreC, scoreP\n",
    "    print(\"Good job! You found a set. You earn a point.\")\n",
    "    scoreP = scoreP + 1\n",
    "    smallestIndex, middleIndex, largestIndex = order(card1-1, card2-1, card3-1)\n",
    "    table = removeCards(table, smallestIndex, middleIndex, largestIndex)\n",
    "    showTable(table)\n",
    "    return table, scoreP\n",
    "# deck = createDeck()\n",
    "# table, deck = generateTableBeginning(deck)\n",
    "showTable(table)\n",
    "playersTurn(table, 0)"
   ]
  },
  {
   "cell_type": "code",
   "execution_count": null,
   "metadata": {},
   "outputs": [],
   "source": [
    "def computersTurn(table, scoreC):\n",
    "    # input = a table and the score of the computer\n",
    "    # ouput = true or false(set or no set), table (either without a set or the original form), and new score of the computer\n",
    "    # function -> looks for ONE set in table and then takes it out and shows the set\n",
    "    \n",
    "    numberOfCardsInTable = len(table)\n",
    "    for i in range(0, numberOfCardsInTable):\n",
    "        cardOne = table[i]\n",
    "        for j in range(i+1, numberOfCardsInTable):\n",
    "            cardTwo = table[j]\n",
    "            for m in range(j+1, numberOfCardsInTable):\n",
    "                cardThree = table[m]\n",
    "                checkSet = isSet(cardOne, cardTwo, cardThree)\n",
    "                if checkSet: # not done yet \n",
    "                    showSet(cardOne, cardTwo, cardThree)\n",
    "                    table = removeCards(table, i, j, m)\n",
    "                    scoreC = scoreC + 1\n",
    "                    return table, True, scoreC\n",
    "    return table, False, scoreC\n",
    "deck = createDeck()\n",
    "table, deck = generateTableBeginning(deck)\n",
    "computersTurn(table, 5)\n",
    "            "
   ]
  },
  {
   "cell_type": "code",
   "execution_count": null,
   "metadata": {},
   "outputs": [],
   "source": [
    "def lookForSetInTable(table):\n",
    "    # input = a table\n",
    "    # ouput = \n",
    "    # \n",
    "    \n",
    "    numberOfCards = len(table)\n",
    "    for i in range(0, numberOfCards):\n",
    "        cardOne = table[i]\n",
    "        for j in range(i+1, numberOfCards):\n",
    "            cardTwo = table[j]\n",
    "            #ij = isTwin(i,j)\n",
    "            # if ij == False:\n",
    "            for m in range(j+1, numberOfCards):\n",
    "                cardThree = table[m]\n",
    "                    # im = isTwin(i,m)\n",
    "                    # jm = isTwin(j,m)\n",
    "                    # if im == False and jm == False:\n",
    "                        #if isTwin(i,j):\n",
    "                        #break\n",
    "                        #elif isTwin(i,m):\n",
    "                        #break\n",
    "                        #elif isTwin(j, m):\n",
    "                        #break\n",
    "                        #else \n",
    "                checkset = isSet(cardOne, cardTwo, cardThree)\n",
    "                if checkset:    \n",
    "                    return'Set', cardOne, cardTwo, cardThree\n",
    "table = generateTableTwelve()\n",
    "lookForSetInTable(table)"
   ]
  },
  {
   "cell_type": "code",
   "execution_count": null,
   "metadata": {},
   "outputs": [],
   "source": [
    "def setInTable(table):\n",
    "    # input = a table of cards\n",
    "    # output = either a set and the table or there are no sets\n",
    "    for i in range(0, len(table)-2):\n",
    "        for j in range(1+i, len(table)-1):\n",
    "            for m in range(1+j, len(table)):\n",
    "                if isSet(table[i], table[j], table[m]):\n",
    "                    print(table[i], table[j], table[m]) \n",
    "                    print(i, j, m)\n",
    "                    del table[i]\n",
    "                    del table[j-1]\n",
    "                    del table[m-2]\n",
    "                    return table\n",
    "    return 'There are no sets'\n",
    "deck = createDeck()\n",
    "table, deck = generateTableBeginning(deck)\n",
    "print(setInTable(table))"
   ]
  },
  {
   "cell_type": "code",
   "execution_count": null,
   "metadata": {},
   "outputs": [],
   "source": []
  },
  {
   "cell_type": "code",
   "execution_count": null,
   "metadata": {},
   "outputs": [],
   "source": []
  },
  {
   "cell_type": "code",
   "execution_count": null,
   "metadata": {},
   "outputs": [],
   "source": []
  },
  {
   "cell_type": "code",
   "execution_count": null,
   "metadata": {},
   "outputs": [],
   "source": []
  },
  {
   "cell_type": "code",
   "execution_count": null,
   "metadata": {},
   "outputs": [],
   "source": []
  },
  {
   "cell_type": "code",
   "execution_count": null,
   "metadata": {},
   "outputs": [],
   "source": []
  },
  {
   "cell_type": "code",
   "execution_count": null,
   "metadata": {},
   "outputs": [],
   "source": []
  },
  {
   "cell_type": "code",
   "execution_count": null,
   "metadata": {},
   "outputs": [],
   "source": []
  },
  {
   "cell_type": "code",
   "execution_count": null,
   "metadata": {},
   "outputs": [],
   "source": []
  }
 ],
 "metadata": {
  "kernelspec": {
   "display_name": "Python 3",
   "language": "python",
   "name": "python3"
  },
  "language_info": {
   "codemirror_mode": {
    "name": "ipython",
    "version": 3
   },
   "file_extension": ".py",
   "mimetype": "text/x-python",
   "name": "python",
   "nbconvert_exporter": "python",
   "pygments_lexer": "ipython3",
   "version": "3.7.6"
  }
 },
 "nbformat": 4,
 "nbformat_minor": 2
}
